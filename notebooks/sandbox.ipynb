{
 "cells": [
  {
   "cell_type": "code",
   "execution_count": 1,
   "metadata": {},
   "outputs": [],
   "source": [
    "from collections import Counter"
   ]
  },
  {
   "cell_type": "code",
   "execution_count": 10,
   "metadata": {},
   "outputs": [
    {
     "name": "stdout",
     "output_type": "stream",
     "text": [
      "[array(['line1', 'line2', 'line3', 'line4', 'line5', 'line6', 'line7',\n",
      "       'line8', 'line9', 'line10'], dtype='<U6')]\n"
     ]
    }
   ],
   "source": [
    "import math\n",
    "import numpy as np\n",
    "\n",
    "def batched(doc, batch_size):\n",
    "    lines = doc.strip().split(\"\\n\")\n",
    "    return np.array_split(lines, math.ceil(len(lines) / batch_size))\n",
    "\n",
    "# Example usage:\n",
    "document = \"\"\"line1\n",
    "line2\n",
    "line3\n",
    "line4\n",
    "line5\n",
    "line6\n",
    "line7\n",
    "line8\n",
    "line9\n",
    "line10\"\"\"\n",
    "\n",
    "max_batch_size = 10\n",
    "batches = batched(document, max_batch_size)\n",
    "\n",
    "print(batches)"
   ]
  }
 ],
 "metadata": {
  "kernelspec": {
   "display_name": ".venv",
   "language": "python",
   "name": "python3"
  },
  "language_info": {
   "codemirror_mode": {
    "name": "ipython",
    "version": 3
   },
   "file_extension": ".py",
   "mimetype": "text/x-python",
   "name": "python",
   "nbconvert_exporter": "python",
   "pygments_lexer": "ipython3",
   "version": "3.12.3"
  }
 },
 "nbformat": 4,
 "nbformat_minor": 2
}
