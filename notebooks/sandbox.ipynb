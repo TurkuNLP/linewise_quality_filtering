{
 "cells": [
  {
   "cell_type": "code",
   "execution_count": 1,
   "metadata": {},
   "outputs": [],
   "source": [
    "from collections import Counter"
   ]
  },
  {
   "cell_type": "code",
   "execution_count": 11,
   "metadata": {},
   "outputs": [
    {
     "name": "stdout",
     "output_type": "stream",
     "text": [
      "Batch 1: ['line1', 'line2', 'line3', 'line4', 'line5']\n",
      "Batch 2: ['line6', 'line7', 'line8', 'line9', 'line10']\n"
     ]
    }
   ],
   "source": [
    "import math\n",
    "\n",
    "def split_into_batches(text, max_batch_size):\n",
    "    lines = text.strip().split(\"\\n\")\n",
    "    total_lines = len(lines)\n",
    "    \n",
    "    # Determine the number of batches\n",
    "    num_batches = math.ceil(total_lines / max_batch_size)\n",
    "    \n",
    "    # If not evenly divisible, adjust batch sizes to be as even as possible\n",
    "    batch_size = math.ceil(total_lines / num_batches)\n",
    "\n",
    "    # Split into batches\n",
    "    batches = [lines[i:i + batch_size] for i in range(0, total_lines, batch_size)]\n",
    "    \n",
    "    return batches\n",
    "\n",
    "# Example usage:\n",
    "document = \"\"\"line1\n",
    "line2\n",
    "line3\n",
    "line4\n",
    "line5\n",
    "line6\n",
    "line7\n",
    "line8\n",
    "line9\n",
    "line10\"\"\"\n",
    "\n",
    "max_batch_size = 8\n",
    "batches = split_into_batches(document, max_batch_size)\n",
    "\n",
    "for i, batch in enumerate(batches):\n",
    "    print(f\"Batch {i+1}: {batch}\")"
   ]
  }
 ],
 "metadata": {
  "kernelspec": {
   "display_name": ".venv",
   "language": "python",
   "name": "python3"
  },
  "language_info": {
   "codemirror_mode": {
    "name": "ipython",
    "version": 3
   },
   "file_extension": ".py",
   "mimetype": "text/x-python",
   "name": "python",
   "nbconvert_exporter": "python",
   "pygments_lexer": "ipython3",
   "version": "3.12.5"
  }
 },
 "nbformat": 4,
 "nbformat_minor": 2
}
